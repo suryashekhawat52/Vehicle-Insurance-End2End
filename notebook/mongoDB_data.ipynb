{
 "cells": [
  {
   "cell_type": "code",
   "execution_count": 44,
   "id": "d6d58976",
   "metadata": {},
   "outputs": [],
   "source": [
    "import pandas as pd\n",
    "import pymongo "
   ]
  },
  {
   "cell_type": "code",
   "execution_count": 34,
   "id": "f633c7fe",
   "metadata": {},
   "outputs": [],
   "source": [
    "df = pd.read_csv('data.csv')"
   ]
  },
  {
   "cell_type": "code",
   "execution_count": 42,
   "id": "2401363a",
   "metadata": {},
   "outputs": [],
   "source": [
    "data = df.to_dict(orient = 'records')"
   ]
  },
  {
   "cell_type": "code",
   "execution_count": null,
   "id": "61684724",
   "metadata": {},
   "outputs": [],
   "source": [
    "DB_NAME = \"Proj1\"\n",
    "COLLECTION_NAME = \"Proj1-Data\"\n",
    "CONNECTION_URL = \"mongodb+srv://suryashekhawat52_db_user:<password>@cluster0.ngb75ll.mongodb.net/?retryWrites=true&w=majority&appName=Cluster0\""
   ]
  },
  {
   "cell_type": "code",
   "execution_count": 47,
   "id": "88321d24",
   "metadata": {},
   "outputs": [],
   "source": [
    "client = pymongo.MongoClient(CONNECTION_URL)\n",
    "data_base = client[DB_NAME]\n",
    "collection = data_base[COLLECTION_NAME]"
   ]
  },
  {
   "cell_type": "code",
   "execution_count": 48,
   "id": "c60071c1",
   "metadata": {},
   "outputs": [],
   "source": [
    "# uploading data to mongoDB\n",
    "rec = collection.insert_many(data)"
   ]
  },
  {
   "cell_type": "code",
   "execution_count": 51,
   "id": "6fa36fbf",
   "metadata": {},
   "outputs": [
    {
     "name": "stdout",
     "output_type": "stream",
     "text": [
      "<class 'pymongo.results.InsertManyResult'>\n"
     ]
    }
   ],
   "source": [
    "print(type(rec))"
   ]
  },
  {
   "cell_type": "code",
   "execution_count": 54,
   "id": "8f31663c",
   "metadata": {},
   "outputs": [],
   "source": [
    "record = collection.find()"
   ]
  },
  {
   "cell_type": "code",
   "execution_count": 56,
   "id": "0ee6ad63",
   "metadata": {},
   "outputs": [],
   "source": [
    "# for i, j in enumerate(record):\n",
    "#     print(f\"{i} : {j}\")"
   ]
  },
  {
   "cell_type": "code",
   "execution_count": 58,
   "id": "ca168953",
   "metadata": {},
   "outputs": [
    {
     "data": {
      "text/plain": [
       "WindowsPath('C:/Users/suryap.shekhawat/Downloads/ss/Vehicle-Insurance-End2End')"
      ]
     },
     "execution_count": 58,
     "metadata": {},
     "output_type": "execute_result"
    }
   ],
   "source": [
    "from from_root import from_root\n",
    "from_root()"
   ]
  },
  {
   "cell_type": "code",
   "execution_count": null,
   "id": "f282d913",
   "metadata": {},
   "outputs": [],
   "source": []
  },
  {
   "cell_type": "code",
   "execution_count": null,
   "id": "3d2fe57d",
   "metadata": {},
   "outputs": [],
   "source": []
  }
 ],
 "metadata": {
  "kernelspec": {
   "display_name": "vehicle",
   "language": "python",
   "name": "python3"
  },
  "language_info": {
   "codemirror_mode": {
    "name": "ipython",
    "version": 3
   },
   "file_extension": ".py",
   "mimetype": "text/x-python",
   "name": "python",
   "nbconvert_exporter": "python",
   "pygments_lexer": "ipython3",
   "version": "3.11.9"
  }
 },
 "nbformat": 4,
 "nbformat_minor": 5
}
